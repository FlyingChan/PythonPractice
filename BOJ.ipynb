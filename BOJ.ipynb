{
 "cells": [
  {
   "cell_type": "markdown",
   "metadata": {},
   "source": [
    "1040 : 정수"
   ]
  },
  {
   "cell_type": "code",
   "execution_count": 21,
   "metadata": {},
   "outputs": [
    {
     "ename": "KeyboardInterrupt",
     "evalue": "",
     "output_type": "error",
     "traceback": [
      "\u001b[1;31m---------------------------------------------------------------------------\u001b[0m",
      "\u001b[1;31mKeyboardInterrupt\u001b[0m                         Traceback (most recent call last)",
      "Cell \u001b[1;32mIn[21], line 12\u001b[0m\n\u001b[0;32m     10\u001b[0m     \u001b[38;5;28;01mif\u001b[39;00m(\u001b[38;5;28mlen\u001b[39m(\u001b[38;5;28mset\u001b[39m(l))\u001b[38;5;241m==\u001b[39m\u001b[38;5;28mint\u001b[39m(K)):\n\u001b[0;32m     11\u001b[0m         \u001b[38;5;28;01mbreak\u001b[39;00m\n\u001b[1;32m---> 12\u001b[0m     N\u001b[38;5;241m=\u001b[39m\u001b[38;5;28;43mint\u001b[39;49m\u001b[43m(\u001b[49m\u001b[43mN\u001b[49m\u001b[43m)\u001b[49m\u001b[38;5;241m+\u001b[39m\u001b[38;5;241m1\u001b[39m\n\u001b[0;32m     14\u001b[0m \u001b[38;5;28mprint\u001b[39m(N)\n",
      "\u001b[1;31mKeyboardInterrupt\u001b[0m: "
     ]
    }
   ],
   "source": [
    "//TODO #3 시간이 너무 오래 걸림 @FlyingChan\n",
    "N, K = input().split(' ')\n",
    "l=[]\n",
    "if(len(N)<int(K)):\n",
    "    N=(10**int(K))//10\n",
    "while(1):\n",
    "    N=str(N)\n",
    "    l=[]\n",
    "    for i in range(len(N)):\n",
    "        l.append(N[i])\n",
    "    if(len(set(l))==int(K)):\n",
    "        break\n",
    "    N=int(N)+1\n",
    "\n",
    "print(N)\n",
    "\n",
    "    "
   ]
  },
  {
   "cell_type": "markdown",
   "metadata": {},
   "source": [
    "2877 : 4와 7"
   ]
  },
  {
   "cell_type": "code",
   "execution_count": 12,
   "metadata": {},
   "outputs": [
    {
     "name": "stdout",
     "output_type": "stream",
     "text": [
      "3\n",
      "14\n",
      "1\n"
     ]
    }
   ],
   "source": [
    "//TODO #4 알고리즘 자체를 다시 계산해야 될 듯 @FlyingChan\n",
    "K=int(input())\n",
    "i=1\n",
    "a=0\n",
    "b=0\n",
    "while(1):\n",
    "    a=a+2**i\n",
    "    if(a>=K):\n",
    "        i=i\n",
    "        break\n",
    "    i=i+1\n",
    "\n",
    "b=2**i-(a-K)                #b=그 자리 수에서 몇번째 수인지/i=자리수\n",
    "\n",
    "\n"
   ]
  },
  {
   "cell_type": "code",
   "execution_count": null,
   "metadata": {},
   "outputs": [],
   "source": [
    "b=2\n",
    "i=3\n",
    "s=int\n",
    "for j in range(i):\n",
    "    s[i]=4\n",
    "for k in range(b):\n",
    "    "
   ]
  }
 ],
 "metadata": {
  "kernelspec": {
   "display_name": "Python 3",
   "language": "python",
   "name": "python3"
  },
  "language_info": {
   "codemirror_mode": {
    "name": "ipython",
    "version": 3
   },
   "file_extension": ".py",
   "mimetype": "text/x-python",
   "name": "python",
   "nbconvert_exporter": "python",
   "pygments_lexer": "ipython3",
   "version": "3.12.1"
  }
 },
 "nbformat": 4,
 "nbformat_minor": 2
}
