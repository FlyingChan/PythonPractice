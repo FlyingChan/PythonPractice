{
 "cells": [
  {
   "cell_type": "markdown",
   "metadata": {},
   "source": [
    "2055 : 두 수의 약수 구하기"
   ]
  },
  {
   "cell_type": "code",
   "execution_count": 7,
   "metadata": {},
   "outputs": [
    {
     "name": "stdout",
     "output_type": "stream",
     "text": [
      "1 2 4 8 "
     ]
    }
   ],
   "source": [
    "a,b=map(int, input().split(' '))\n",
    "for i in range(1,b+1):\n",
    "    if (b%i==0 or a%i==0):\n",
    "        print(i, end=\" \")"
   ]
  },
  {
   "cell_type": "code",
   "execution_count": 12,
   "metadata": {},
   "outputs": [
    {
     "name": "stdout",
     "output_type": "stream",
     "text": [
      "1 2 4 8 "
     ]
    }
   ],
   "source": [
    "a,b=map(int, input().split(' '))\n",
    "lista = []\n",
    "lista.append(a)\n",
    "lista.append(b)\n",
    "for i in range(1,b+1):\n",
    "    if (b%i==0):\n",
    "        lista.append(int(i))\n",
    "        lista.append(int(b/i))\n",
    "    if (a%i==0):\n",
    "        lista.append(int(i))\n",
    "        lista.append(int(a/i))\n",
    "    if (i*i>b):\n",
    "        break\n",
    "\n",
    "v=set(lista)\n",
    "v=list(v)\n",
    "v.sort()\n",
    "for j in v:\n",
    "    print(j,end=\" \")"
   ]
  },
  {
   "cell_type": "markdown",
   "metadata": {},
   "source": [
    "5301 : softmax(해결x)"
   ]
  },
  {
   "cell_type": "code",
   "execution_count": 12,
   "metadata": {},
   "outputs": [
    {
     "name": "stdout",
     "output_type": "stream",
     "text": [
      "2.71828179834636\n"
     ]
    }
   ],
   "source": [
    "//TODO #1 자연상수 e를 어떻게 처리 할 것인가 @FlyingChan\n",
    "def naturee(j):\n",
    "    e=1\n",
    "    for i in range(j):\n",
    "        e=e*(1+(1/j))\n",
    "    return e\n",
    "def Softmax():\n",
    "    return 0\n",
    "\n",
    "e1=naturee(100000000)\n",
    "print(e1)"
   ]
  },
  {
   "cell_type": "markdown",
   "metadata": {},
   "source": [
    "2828 : 숫자 생성 머신"
   ]
  },
  {
   "cell_type": "code",
   "execution_count": 17,
   "metadata": {},
   "outputs": [
    {
     "name": "stdout",
     "output_type": "stream",
     "text": [
      "6\n"
     ]
    }
   ],
   "source": [
    "def mathmachine(n,m):\n",
    "    l=[n,m]\n",
    "    for i in range(500000):\n",
    "        l.append(n*l[i])\n",
    "        l.append(m*l[i])\n",
    "    return l\n",
    "\n",
    "n,m,k=map(int,input().split(' '))\n",
    "a=mathmachine(n,m)\n",
    "print(a[k-1]%1000000007)"
   ]
  },
  {
   "cell_type": "markdown",
   "metadata": {},
   "source": [
    "2333 : 경상북도 시군 이름 1"
   ]
  },
  {
   "cell_type": "code",
   "execution_count": 13,
   "metadata": {},
   "outputs": [
    {
     "name": "stdout",
     "output_type": "stream",
     "text": [
      "O\n"
     ]
    }
   ],
   "source": [
    "City=input()\n",
    "Test=input()\n",
    "C=len(Test)\n",
    "for i in range(0,30):\n",
    "    if(Test==City[i:i+C]):\n",
    "        print(\"O\")\n",
    "        break\n",
    "    if(i==29):\n",
    "        print(\"X\")\n",
    "\n",
    "\n",
    "\n"
   ]
  },
  {
   "cell_type": "markdown",
   "metadata": {},
   "source": [
    "2329 : 칭찬 스티커1"
   ]
  },
  {
   "cell_type": "code",
   "execution_count": 9,
   "metadata": {},
   "outputs": [
    {
     "name": "stdout",
     "output_type": "stream",
     "text": [
      "43\n"
     ]
    }
   ],
   "source": [
    "def Sosu(a):\n",
    "    if (a==1):\n",
    "        return 1\n",
    "    for i in range(2,a):\n",
    "        if(a%i==0):\n",
    "            return 1\n",
    "            break\n",
    "    return 0                    #1은 합성수, 0는 소수\n",
    "\n",
    "n=int(input())\n",
    "date=2\n",
    "day=2\n",
    "student=1\n",
    "stu=1\n",
    "while(True):\n",
    "    if Sosu(date)==1:\n",
    "        student=student*2\n",
    "    elif Sosu(date)==0:\n",
    "        student=student*3\n",
    "    if stu>=n:\n",
    "        print(day-1)\n",
    "        break\n",
    "    date=date+1\n",
    "    day=day+1\n",
    "    stu=student+stu\n",
    "    if(date>31):\n",
    "        date=date-31\n",
    "\n",
    "\n"
   ]
  },
  {
   "cell_type": "markdown",
   "metadata": {},
   "source": [
    "2821 : 가장 긴 막대기의 길이는?"
   ]
  },
  {
   "cell_type": "code",
   "execution_count": 12,
   "metadata": {},
   "outputs": [
    {
     "name": "stdout",
     "output_type": "stream",
     "text": [
      "3\n"
     ]
    }
   ],
   "source": [
    "n=int(input())\n",
    "s=input()\n",
    "c=0\n",
    "count=0\n",
    "for i in range(n-2):\n",
    "    if(int(s[i])==int(s[i+1])):\n",
    "        count=count+1\n",
    "    else:\n",
    "        if(count>=c):\n",
    "            c=count\n",
    "        count=0\n",
    "    if(count+2==n):\n",
    "        c=n-1\n",
    "        \n",
    "print(c+1)"
   ]
  },
  {
   "cell_type": "markdown",
   "metadata": {},
   "source": [
    "2346 : 시침과 분침 1"
   ]
  },
  {
   "cell_type": "code",
   "execution_count": 9,
   "metadata": {},
   "outputs": [
    {
     "name": "stdout",
     "output_type": "stream",
     "text": [
      "[(6, 0)]\n",
      "1\n",
      "06:00\n"
     ]
    }
   ],
   "source": [
    "d= int(input())\n",
    "h=0\n",
    "m=0\n",
    "count=0\n",
    "hour=[]\n",
    "minuate=[]\n",
    "time=[]\n",
    "for h in range(12):\n",
    "    for m in range(61):\n",
    "        if ((6*m-0.5*(60*h+m)==d) or (0.5*(60*h+m)-6*m==d) or (6*m-0.5*(60*h+m)==360-1*d) or (0.5*(60*h+m)-6*m==360-1*d)):\n",
    "            if(m!=60):\n",
    "                time.append((h,m))\n",
    "                count=count+1\n",
    "            else:\n",
    "                time.append((h+1,0))\n",
    "                count=count+1\n",
    "\n",
    "\n",
    "count=count-(len(time)-len(set(time)))\n",
    "time=set(time)\n",
    "time=list(time)\n",
    "time.sort(key=lambda x:x[0])\n",
    "print(count)\n",
    "for i, j in time:\n",
    "    print('{:02d}:{:02d}'.format(i,j))\n",
    "\n",
    "\n",
    "\n",
    "\n"
   ]
  }
 ],
 "metadata": {
  "kernelspec": {
   "display_name": "Python 3",
   "language": "python",
   "name": "python3"
  },
  "language_info": {
   "codemirror_mode": {
    "name": "ipython",
    "version": 3
   },
   "file_extension": ".py",
   "mimetype": "text/x-python",
   "name": "python",
   "nbconvert_exporter": "python",
   "pygments_lexer": "ipython3",
   "version": "3.12.1"
  }
 },
 "nbformat": 4,
 "nbformat_minor": 2
}
