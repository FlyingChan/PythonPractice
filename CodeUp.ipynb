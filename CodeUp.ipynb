{
 "cells": [
  {
   "cell_type": "markdown",
   "metadata": {},
   "source": [
    "2055 : 두 수의 약수 구하기"
   ]
  },
  {
   "cell_type": "code",
   "execution_count": 7,
   "metadata": {},
   "outputs": [
    {
     "name": "stdout",
     "output_type": "stream",
     "text": [
      "1 2 4 8 "
     ]
    }
   ],
   "source": [
    "a,b=map(int, input().split(' '))\n",
    "for i in range(1,b+1):\n",
    "    if (b%i==0 or a%i==0):\n",
    "        print(i, end=\" \")"
   ]
  },
  {
   "cell_type": "code",
   "execution_count": 12,
   "metadata": {},
   "outputs": [
    {
     "name": "stdout",
     "output_type": "stream",
     "text": [
      "1 2 4 8 "
     ]
    }
   ],
   "source": [
    "a,b=map(int, input().split(' '))\n",
    "lista = []\n",
    "lista.append(a)\n",
    "lista.append(b)\n",
    "for i in range(1,b+1):\n",
    "    if (b%i==0):\n",
    "        lista.append(int(i))\n",
    "        lista.append(int(b/i))\n",
    "    if (a%i==0):\n",
    "        lista.append(int(i))\n",
    "        lista.append(int(a/i))\n",
    "    if (i*i>b):\n",
    "        break\n",
    "\n",
    "v=set(lista)\n",
    "v=list(v)\n",
    "v.sort()\n",
    "for j in v:\n",
    "    print(j,end=\" \")"
   ]
  },
  {
   "cell_type": "markdown",
   "metadata": {},
   "source": [
    "5301 : softmax(해결x)"
   ]
  },
  {
   "cell_type": "code",
   "execution_count": 12,
   "metadata": {},
   "outputs": [
    {
     "name": "stdout",
     "output_type": "stream",
     "text": [
      "2.71828179834636\n"
     ]
    }
   ],
   "source": [
    "def naturee(j):\n",
    "    e=1\n",
    "    for i in range(j):\n",
    "        e=e*(1+(1/j))\n",
    "    return e\n",
    "def Softmax():\n",
    "    return 0\n",
    "\n",
    "e1=naturee(100000000)\n",
    "print(e1)"
   ]
  },
  {
   "cell_type": "markdown",
   "metadata": {},
   "source": [
    "2828 : 숫자 생성 머신"
   ]
  },
  {
   "cell_type": "code",
   "execution_count": 17,
   "metadata": {},
   "outputs": [
    {
     "name": "stdout",
     "output_type": "stream",
     "text": [
      "6\n"
     ]
    }
   ],
   "source": [
    "def mathmachine(n,m):\n",
    "    l=[n,m]\n",
    "    for i in range(500000):\n",
    "        l.append(n*l[i])\n",
    "        l.append(m*l[i])\n",
    "    return l\n",
    "\n",
    "n,m,k=map(int,input().split(' '))\n",
    "a=mathmachine(n,m)\n",
    "print(a[k-1]%1000000007)"
   ]
  }
 ],
 "metadata": {
  "kernelspec": {
   "display_name": "Python 3",
   "language": "python",
   "name": "python3"
  },
  "language_info": {
   "codemirror_mode": {
    "name": "ipython",
    "version": 3
   },
   "file_extension": ".py",
   "mimetype": "text/x-python",
   "name": "python",
   "nbconvert_exporter": "python",
   "pygments_lexer": "ipython3",
   "version": "3.12.1"
  }
 },
 "nbformat": 4,
 "nbformat_minor": 2
}
